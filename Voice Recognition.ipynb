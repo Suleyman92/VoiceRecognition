{
 "cells": [
  {
   "cell_type": "code",
   "execution_count": 5,
   "id": "fea1e87e-6216-4712-86bb-5bd5d99d29ee",
   "metadata": {},
   "outputs": [
    {
     "name": "stdout",
     "output_type": "stream",
     "text": [
      "Lütfen bir şey söyleyin...\n",
      "Ses anlaşılmadı.\n",
      "Lütfen bir şey söyleyin...\n",
      "Ses tanıma: Bianchi\n"
     ]
    }
   ],
   "source": [
    "import tkinter as tk\n",
    "from tkinter import Button\n",
    "import speech_recognition as sr\n",
    "from gtts import gTTS\n",
    "import os\n",
    "\n",
    "class Voice_App:\n",
    "    def __init__(self, master):\n",
    "        self.master = master\n",
    "        master.title(\"Sese duyarlı uygulama\")\n",
    "        master.geometry(\"400x300\")\n",
    "        master.configure(bg=\"lightblue\")\n",
    "\n",
    "        self.tag = tk.Label(master, text = \"Lütfen bir şey soyleyin: \", bg=\"lightblue\", font=(\"Arial\", 12))\n",
    "        self.tag.pack\n",
    "\n",
    "        self.listen_bt = Button(master, text=\"Dinle\", command=self.rec_text, bg=\"green\", fg=\"white\", font=(\"Arial\", 14, \"bold\"))\n",
    "        self.listen_bt.pack(pady=10)\n",
    "\n",
    "        self.read_bt = Button(master, text=\"Metni oku\", command=self.read_text, bg=\"blue\", fg=\"white\", font=(\"Arial\", 14, \"bold\"))\n",
    "        self.read_bt.pack()\n",
    "\n",
    "        self.recognized_text = \"\"\n",
    "\n",
    "    def rec_text(self): \n",
    "        recognizer = sr.Recognizer()\n",
    "\n",
    "        with sr.Microphone() as source:\n",
    "            print(\"Lütfen bir şey söyleyin...\")\n",
    "            recognizer.adjust_for_ambient_noise(source)\n",
    "            audio = recognizer.listen(source)\n",
    "\n",
    "        try:\n",
    "            self.recognized_text = recognizer.recognize_google(audio, language=\"tr-TR\")\n",
    "            print(\"Ses tanıma: \" + self.recognized_text)\n",
    "        except sr.UnknownValueError:\n",
    "            print(\"Ses anlaşılmadı.\")\n",
    "        except sr.RequestError as e:\n",
    "            print(f\"Hata oluştu; {e}\")\n",
    "\n",
    "    def read_text(self):\n",
    "        if self.recognized_text:\n",
    "            tts= gTTS(text=self.recognized_text, lang='tr')\n",
    "            tts.save(\"read_text.mp3\")\n",
    "            os.system(\"start read_text.mp3\")\n",
    "\n",
    "if __name__ == \"__main__\":\n",
    "    root = tk.Tk()\n",
    "    app = Voice_App(root)\n",
    "    root.mainloop()\n",
    "\n",
    "            \n",
    "\n",
    "\n",
    "\n",
    "            \n",
    "\n",
    "\n",
    "\n",
    "\n",
    "\n",
    "\n",
    "\n",
    "\n",
    "\n",
    "    "
   ]
  },
  {
   "cell_type": "code",
   "execution_count": null,
   "id": "78ad4893-400f-497e-8327-2bfc0c52b3b1",
   "metadata": {},
   "outputs": [],
   "source": []
  }
 ],
 "metadata": {
  "kernelspec": {
   "display_name": "Python 3 (ipykernel)",
   "language": "python",
   "name": "python3"
  },
  "language_info": {
   "codemirror_mode": {
    "name": "ipython",
    "version": 3
   },
   "file_extension": ".py",
   "mimetype": "text/x-python",
   "name": "python",
   "nbconvert_exporter": "python",
   "pygments_lexer": "ipython3",
   "version": "3.11.5"
  }
 },
 "nbformat": 4,
 "nbformat_minor": 5
}
